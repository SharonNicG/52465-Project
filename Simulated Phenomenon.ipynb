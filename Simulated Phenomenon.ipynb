{
 "cells": [
  {
   "cell_type": "code",
   "execution_count": 1,
   "metadata": {},
   "outputs": [],
   "source": [
    "# https://stackoverflow.com/questions/15777951/how-to-suppress-pandas-future-warning\n",
    "# supresses future warnings\n",
    "import warnings                                                 \n",
    "warnings.simplefilter(action='ignore', category=FutureWarning)\n",
    "\n",
    "# Import the pandas library for df creation\n",
    "import pandas as pd\n",
    "\n",
    "# Import the NumPy library to use the random package\n",
    "import numpy as np\n",
    "\n",
    "# Import the matplotlib library, package pyplot for plotting\n",
    "import matplotlib.pyplot as plt\n",
    "\n",
    "# set plot style\n",
    "plt.style.use('seaborn-whitegrid')\n",
    "\n",
    "# Use magic function to render the figure in a notebook\n",
    "%matplotlib inline\n",
    "\n",
    "# Import the seaborn library for plotting\n",
    "import seaborn as sns\n",
    "\n",
    "# The NumPy Package produces random numbers using Random Number Generators \n",
    "# This defines the process by which numbers are generated for use by NumPy functions \n",
    "# Generators are a reliable way to generate random numbers\n",
    "# numpy.random offers several Random Number Generators. \n",
    "# By defining the Generator the your code becomes reliable and repeatable [Machine Learning Mastery, How to Generate Random Numbers in Python, Available at: https://machinelearningmastery.com/how-to-generate-random-numbers-in-python/]\n",
    "# Sets Generator type (the default BitGenerator - PCG64) with a declared value of 100 [https://numpy.org/doc/stable/reference/random/generator.html]\n",
    "rng = np.random.default_rng(100)\n",
    "\n",
    "# Set number of samples based on number of live births in 2016\n",
    "n = 63739"
   ]
  },
  {
   "cell_type": "markdown",
   "metadata": {},
   "source": [
    "## Introduction\n",
    "\n",
    "\n",
    "The project requires us to simulate a real-world phenomenon of our choosing.\n",
    "We have been asked to model and synthesis data related to this phenomenon using Python, in particular the numpy.random library. The output of the project should be a synthesized data set.\n",
    "\n",
    "I will be examining the rate of breastfeeding initiation in Ireland.  I will create a dataset of variables associated with breastfeeding. I will simulate the distribution of breastfeeding initiation in a random sample of an identified segment of the population. I will explore the relationships, if any, between these factors and how they may influence the rate of breastfeeding initiation.\n",
    "\n",
    "This will include:\n",
    "1.\tThe distribution of breastfeeding initiation in an identified segment of the population\n",
    "2.\tThe factors contributing to breastfeeding initiation\n",
    "3.\tHow these factors are distributed in the identified segment of the population\n",
    "\n",
    "This topic is of particular interest to me as I have been successfully breastfeeding my own daughter for the past year. The publication of the National Perinatal Reporting System (NPRS) 2019 report [https://media.npr.org/documents/about/annualreports/2019_Annual_Report.pdf] received widespread news coverage and highlighted the low rates of breastfeeding in Ireland [https://www.irishtimes.com/news/health/ireland-has-one-of-the-lowest-breastfeeding-rates-in-the-world-report-1.4391626] . On reflection I was unable to identify how I had arrived at the decision to breastfeed. I began to read more on the topic including how rates in Ireland compare to international rates and the socio-cultural changes in breastfeeding. From this I identified influencing factors on breastfeeding initiation. While I meet some of the criteria, I do not meet all. And yet as a mother in Ireland exclusively breastfeeding for over 12 months, I am one of only 7%. This intrigued me and I wanted to examine what factors may have influenced my breastfeeding journey. \n",
    "\n",
    "### Breastfeeding \n",
    "\n",
    "#### What is breastfeeding?\n",
    "Breastfeeding, or nursing, is the process of providing an infant with their mother’s breastmilk [https://www.who.int/health-topics/breastfeeding]. This is usually done directly from the breast but can also be provided indirectly using expressed breast milk [*Ibid.*]. \n",
    "Breastfeeding is important as it offers numerous health benefits for both mother and infant:\n",
    "Benefits to infant:\n",
    "* Breast milk is naturally designed to meet the calorific and nutritional needs of an infant [https://www.who.int/news-room/fact-sheets/detail/infant-and-young-child-feeding] and adapts to meet the needs of the infant as they change [https://www.nhs.uk/conditions/baby/breastfeeding-and-bottle-feeding/breastfeeding/benefits]\n",
    "* Breast milk provides natural antibodies that help to protect against common infections and diseases [*Ibid.*]\n",
    "* Breastfeeding is associated with better long-term health and wellbeing outcomes including less likelihood developing asthma or obesity and higher income in later life (https://www.ncbi.nlm.nih.gov/pmc/articles/PMC1448489/)\n",
    "\n",
    "Benefits to mother: \n",
    "* Breastfeeding lowers the mother’s risk of breast and ovarian cancer, osteoporosis, cardiovascular disease, and obesity (https://www.nhs.uk/conditions/baby/breastfeeding-and-bottle-feeding/breastfeeding/benefits/\n",
    "). \n",
    "* Breastfeeding is associated with lower rates of post-natal depression and fewer depressive symptoms for women who do develop post-natal depression while breastfeeding [Borra, Dennis[.  \n",
    "* Breastfeeding is a cost effective, safe and hygienic method of infant feeding [https://www.unicef.org/media/media_70044.html]. \n",
    "\n",
    "The World Health Organisation (WHO), and numerous other organizations recommend exclusively breastfeeding for the first 6 months of an infant’s life and breastfeeding supplemented by other foods from 6 months on [WHO: https://www.who.int/health-topics/breastfeeding AAP: https://doi.org/10.1542/peds.2011-3552 NHS: https://www.nhs.uk/conditions/baby/breastfeeding-and-bottle-feeding/breastfeeding/ HSE: https://www2.hse.ie/wellbeing/child-health/extended-breastfeeding-beyond-1-year.html]. \n",
    "However, globally nearly 2 out of 3 infants are not exclusively breastfed for the first 6 months [WHO: https://www.who.int/health-topics/breastfeeding]. \n",
    "\n",
    "Ireland has one of the lowest breastfeeding initiation rates in the world, with 63.8% of mothers breastfeeding for their child's first feed [https://www.hse.ie/eng/about/who/acute-hospitals-division/woman-infants/national-reports-on-womens-health/imis-national-report-2019.pdf]. The rate of breastfeeding drops subtantially within days as on average only 37.3% of mothers are breastfeeding on discharge from hospital [*Ibid.*].\n",
    "\n",
    "Given the physical, social and economic advantages to breastfeeding over articifical and combination feeding (a mix of breast and artificial) both the WHO and the HSE have undertaken a number of measures to increase the rates of breastfeeding initiation and exclusive breastfeeding for the first six months in Ireland [https://apps.who.int/iris/bitstream/handle/10665/259386/9789241550086-eng.pdf, https://www.hse.ie/eng/about/who/healthwellbeing/our-priority-programmes/child-health-and-wellbeing/breastfeeding-healthy-childhood-programme/research-and-reports-breastfeeding/breastfeeding-on-the-island-of-ireland-report.pdf].\n",
    "\n",
    "Funded research is one of these measures including national longitudinal studies to identify factors that may influence breastfeeding rates [https://www.hse.ie/eng/about/who/healthwellbeing/our-priority-programmes/child-health-and-wellbeing/breastfeeding-healthy-childhood-programme/research-and-reports-breastfeeding/breastfeeding-in-a-healthy-ireland.html].\n",
    "\n",
    "A review of some of the completed research projects has identified common factors that have been researched and for which there is a bank of data to refer to. These are identified in the table below:\n",
    "\n",
    "| Variable Name            | Description        | Data Type | Distribution      |\n",
    "|--------------------------|--------------------|-----------|-------------------|\n",
    "| Age                      |                    | Numeric   | Normal/Triangular |\n",
    "| Civil Status             |                    | Boolean   |                   |\n",
    "| Private Health Insurance |                    | Boolean   |                   |\n",
    "\n",
    "These factors will be used as the variables for the development of the dataset. The fourth variable will be 'Breastfeeding Initiation'. This will be informed by information from existing research and dependent on values assigned to records under the other variables. \n",
    "\n",
    "| Variable Name            | Description        | Data Type | Distribution      |\n",
    "|--------------------------|--------------------|-----------|-------------------|\n",
    "| Breastfeeding Initiation | Dependent Variable | Boolean   |                   |\n",
    "\n",
    "A trawl of information sources led to the decision to use data from 2016. While NPRS produce annual reports they are published with a 12 month delay and final versions (following feedback and review) are available after 24 months. This means the 2017 report is the latest final version available. \n",
    "\n",
    "An initial search for information on Civil Status statistics led to the 2016 census data. While this ultimately wasn't used it guided the use of the 2016 NPRS data. Similarily historical data on Private Health Insurance rates in Ireland varies greatly and 2016 seemed to produce the most applicable data for use here. \n",
    "\n",
    "Below is an oytline of each variable, the data is is based on and how it will be used for the development of a dataset. "
   ]
  },
  {
   "cell_type": "markdown",
   "metadata": {},
   "source": [
    "### Age\n",
    "\n",
    "A review of data provided by the NPRS study is used here to determine how maternal age is distributed across the population - mothers with live births in 2016 (http://www.hpo.ie/latest_hipe_nprs_reports/NPRS_2017/Perinatal_Statistics_Report_2017.pdf).\n",
    "\n",
    "While age is a numerical value it is presented by NPRS as a categorical variable/discrete groups, ranging from under 20 years of age to 45 years of age and older. The NPRS study provides the frequency and percentages of births within each group."
   ]
  },
  {
   "cell_type": "code",
   "execution_count": 2,
   "metadata": {
    "scrolled": true
   },
   "outputs": [
    {
     "data": {
      "text/html": [
       "<div>\n",
       "<style scoped>\n",
       "    .dataframe tbody tr th:only-of-type {\n",
       "        vertical-align: middle;\n",
       "    }\n",
       "\n",
       "    .dataframe tbody tr th {\n",
       "        vertical-align: top;\n",
       "    }\n",
       "\n",
       "    .dataframe thead th {\n",
       "        text-align: right;\n",
       "    }\n",
       "</style>\n",
       "<table border=\"1\" class=\"dataframe\">\n",
       "  <thead>\n",
       "    <tr style=\"text-align: right;\">\n",
       "      <th>Age Group</th>\n",
       "      <th>Under 20 Years</th>\n",
       "      <th>20-24 Years</th>\n",
       "      <th>25-29 Years</th>\n",
       "      <th>30-34 Years</th>\n",
       "      <th>35-39 Years</th>\n",
       "      <th>40-44 Years</th>\n",
       "      <th>45 Years and Over</th>\n",
       "    </tr>\n",
       "  </thead>\n",
       "  <tbody>\n",
       "    <tr>\n",
       "      <th>Artificial</th>\n",
       "      <td>786</td>\n",
       "      <td>3158</td>\n",
       "      <td>5409</td>\n",
       "      <td>8284</td>\n",
       "      <td>6458</td>\n",
       "      <td>1380</td>\n",
       "      <td>94</td>\n",
       "    </tr>\n",
       "    <tr>\n",
       "      <th>Breast</th>\n",
       "      <td>250</td>\n",
       "      <td>1632</td>\n",
       "      <td>4883</td>\n",
       "      <td>12193</td>\n",
       "      <td>10266</td>\n",
       "      <td>2173</td>\n",
       "      <td>144</td>\n",
       "    </tr>\n",
       "    <tr>\n",
       "      <th>Combined</th>\n",
       "      <td>66</td>\n",
       "      <td>388</td>\n",
       "      <td>1099</td>\n",
       "      <td>2470</td>\n",
       "      <td>2004</td>\n",
       "      <td>548</td>\n",
       "      <td>54</td>\n",
       "    </tr>\n",
       "    <tr>\n",
       "      <th>Total</th>\n",
       "      <td>1102</td>\n",
       "      <td>5178</td>\n",
       "      <td>11391</td>\n",
       "      <td>22947</td>\n",
       "      <td>18728</td>\n",
       "      <td>4101</td>\n",
       "      <td>292</td>\n",
       "    </tr>\n",
       "  </tbody>\n",
       "</table>\n",
       "</div>"
      ],
      "text/plain": [
       "Age Group   Under 20 Years  20-24 Years  25-29 Years  30-34 Years  \\\n",
       "Artificial             786         3158         5409         8284   \n",
       "Breast                 250         1632         4883        12193   \n",
       "Combined                66          388         1099         2470   \n",
       "Total                 1102         5178        11391        22947   \n",
       "\n",
       "Age Group   35-39 Years  40-44 Years  45 Years and Over  \n",
       "Artificial         6458         1380                 94  \n",
       "Breast            10266         2173                144  \n",
       "Combined           2004          548                 54  \n",
       "Total             18728         4101                292  "
      ]
     },
     "execution_count": 2,
     "metadata": {},
     "output_type": "execute_result"
    }
   ],
   "source": [
    "# Downloaded NPRS_Age.csv from CITE\n",
    "age = pd.read_csv(\"Data/Age_and_Feeding_Type.csv\", index_col='Age Group')\n",
    "\n",
    "# Other source: https://stackoverflow.com/questions/43983622/remove-unnamed-columns-in-pandas-dataframe\n",
    "\n",
    "# https://www.w3resource.com/pandas/dataframe/dataframe-t.php\n",
    "age = age.T\n",
    "age = age.iloc[0:4, 0:7]\n",
    "\n",
    "age"
   ]
  },
  {
   "cell_type": "markdown",
   "metadata": {},
   "source": [
    "The grouping of data by age group reduces the usefullness of the `describe()` function on the dataframe.However, an initial view of the NPRS data indicates that the data is somewhat normally distributed with births increasing in the 25 - 29 age group, peaking at 30 - 34 years of age and beginning to decline in the 35 - 39 age set. \n",
    "\n",
    "Visualising the data set supports this analysis. It shows a minimum value of less than 20 years of age increasing in a positive direction until it significant peak around 32 years of age - the midpoint of the age group with the greatest frequency of births. "
   ]
  },
  {
   "cell_type": "code",
   "execution_count": 3,
   "metadata": {},
   "outputs": [
    {
     "data": {
      "image/png": "[encoded data removed]",
      "text/plain": [
       "<Figure size 500x500 with 1 Axes>"
      ]
     },
     "metadata": {
      "needs_background": "light"
     },
     "output_type": "display_data"
    }
   ],
   "source": [
    "fig, ax = plt.subplots(figsize=(5, 5), dpi=100)\n",
    "x_pos = np.arange(7)\n",
    "\n",
    "ax.plot(x_pos, age.iloc[0, :], marker='^', label='Breast')\n",
    "ax.plot(x_pos, age.iloc[1, :], marker='^', label='Artificial')\n",
    "ax.plot(x_pos, age.iloc[2, :], marker='^', label='Combined')\n",
    "\n",
    "ax.set_title('Age and Feeding Type')\n",
    "ax.set_xlabel('Maternal Age at Time of Birth')\n",
    "ax.set_ylabel('Frequency')\n",
    "             \n",
    "ax.set_xticks(x_pos)\n",
    "ax.set_xticklabels(age.columns, rotation=90)\n",
    "ax.legend(loc=\"best\")\n",
    "\n",
    "plt.show()"
   ]
  },
  {
   "cell_type": "markdown",
   "metadata": {},
   "source": [
    "This can be replicated using a Trinangualr Distribution. This generates a random number from a weighted range by distribuing events between the maximum and minimum values provided, based on a third value that indicates what the most likely outcome will be.[54] Here we are looking for 100 events (births) distributed between the ages of 16 and 50 with a known peak where the mothers age is 32."
   ]
  },
  {
   "cell_type": "code",
   "execution_count": 4,
   "metadata": {},
   "outputs": [
    {
     "name": "stdout",
     "output_type": "stream",
     "text": [
      "Here is your triangular continuous random variable:\n",
      " [30 26 29 26 33 35 24 41 28 23 38 33 32 27 25 34 28 25 27 36 37 27 27 25\n",
      " 37 33 32 37 26 30 30 31 29 36 26 24 41 32 29 39 30 25 32 40 23 32 40 41\n",
      " 27 36 30 36 23 39 44 43 33 20 22 27 31 27 34 34 21 38 29 27 31 30 26 38\n",
      " 28 32 46 30 44 33 48 27 41 41 32 27 35 33 27 28 38 25 32 23 32 28 48 36\n",
      " 45 28 43 27]\n"
     ]
    },
    {
     "data": {
      "image/png": "[encoded data removed]",
      "text/plain": [
       "<Figure size 432x288 with 1 Axes>"
      ]
     },
     "metadata": {
      "needs_background": "light"
     },
     "output_type": "display_data"
    }
   ],
   "source": [
    "# Here we are looking for a random array with a lower limit of 16 an upper limit of 50\n",
    "# and 32 being the number that appears most frequently (the mid point of the most frequent age group)\n",
    "# over n number of instances where n is the total number of births\n",
    "# and for the out to be presented on a Triangular Distribution plot\n",
    "\n",
    "Tri_var = np.random.triangular(left = 20, mode = 30, right = 50, size = 100).astype(int)\n",
    "print (\"Here is your triangular continuous random variable:\\n % s\" % (Tri_var)) # [55]\n",
    "\n",
    "#  https://stackoverflow.com/questions/60870070/a-weighted-version-of-random-randint\n",
    "plt.hist(np.ma.round(np.random.triangular(left = 20, mode = 30, right = 50, size = 100)).astype(int),\n",
    "        range = (16, 50), bins = 300, density = True)\n",
    "\n",
    "plt.title('Randomised Distribution of Age')\n",
    "plt.xlabel('Maternal Age at Birth of Child')\n",
    "plt.ylabel('Frequency')\n",
    "plt.show()"
   ]
  },
  {
   "cell_type": "markdown",
   "metadata": {},
   "source": [
    "### Civil Status"
   ]
  },
  {
   "cell_type": "markdown",
   "metadata": {},
   "source": [
    "Research has shown that maternal marital status at the time of birth is significantly associated with breastfeeding initiation [gallagher, https://www.sciencedirect.com/science/article/abs/pii/S0884217515301866, https://www.sciencedirect.com/science/article/abs/pii/S1049386716300391].\n",
    "\n",
    "Data captured in the 2016 NPRS survey does not capture relational data between breastfeeding initiation and maternal marital status at the time of birth [http://www.hpo.ie/latest_hipe_nprs_reports/NPRS_2016/Perinatal_Statistics_Report_2016.pdf]. However it does provide percentage values for maternal marital status across all age groups:\n",
    "\n",
    "| Maternal Civil Status at birth | Percentage of Total births |\n",
    "|--------------------------------|----------------------------|\n",
    "| Married                        | 62.2                       |\n",
    "| Single                         | 36.4                       |\n",
    "| Other                          | 1.4                        |\n",
    "\n",
    "\n",
    "Central Statistics Office (CSO) data on civil status for 2016 does record information across all age groups [https://www.cso.ie/en/releasesandpublications/er/mcp/marriagesandcivilpartnerships2016/]. However, as it only captures data for \n",
    "* Marriages\n",
    "* Civil parnerships\n",
    "* Divorces, Judicial Separation and Nullity applications received by the courts \n",
    "* Divorces, Judicial Separation and Nullity applications granted by the courts \n",
    "\n",
    "It does not capture other civil arrangements such as informal seperations or and co-habitants.\n",
    "\n",
    "For the purposes of this simulation the NPRS data will be used.\n",
    "\n",
    "This is a categorical variable that has 3 possible values\n",
    "1. Married\n",
    "2. Single\n",
    "3. Other (encompassing all other civil statuses as indentified by the survey respondant)\n",
    "\n",
    "Based on the information in the NPRS report `rng.choice` can be used to randomly distribute these values across the dataset population."
   ]
  },
  {
   "cell_type": "code",
   "execution_count": 5,
   "metadata": {},
   "outputs": [
    {
     "name": "stdout",
     "output_type": "stream",
     "text": [
      "Single:  14056\n",
      "Married:  45799\n",
      "Other:  3884\n"
     ]
    }
   ],
   "source": [
    "# Classifying Martial Status\n",
    "# 'single' if single, 'married' if married and 'other' for all other categories\n",
    "civil_status = ['single', 'married', 'other']\n",
    "\n",
    "# Randomisation of civil status based on the probability provided\n",
    "civil_status = rng.choice(civil_status, n, p=[0.22, 0.72, 0.06])\n",
    "\n",
    "# https://stackoverflow.com/questions/42916330/efficiently-count-zero-elements-in-numpy-array/42916378\n",
    "print(\"Single: \", np.count_nonzero(civil_status == 'single'))\n",
    "print(\"Married: \", np.count_nonzero(civil_status == 'married'))\n",
    "print(\"Other: \", np.count_nonzero(civil_status == 'other'))"
   ]
  },
  {
   "cell_type": "markdown",
   "metadata": {},
   "source": [
    "### Insurance\n",
    "\n",
    "Gallagher's reasearch also highlighted a significant association between the health insurance status of a mother was a factor in breastfeeding initiation [gallagher]. A review of other research into factors affecting breastfeeding initiation showed that access to enhanced peri and post natal medical care have considerable influence on breastfeeding initiation and continuance [https://ajph.aphapublications.org/doi/abs/10.2105/AJPH.2017.304108, https://pediatrics.aappublications.org/content/118/4/e1048, https://europepmc.org/article/med/24626693]. These were primarily completed in countries without a funded, or part funded, national health service. While these demonstrated that mothers with private health insurance were more likely to initiate breastfeeding they weren't comparable in an Irish context. However, a follow-on study from Gallagher's research further supported her findings that maternal access to private health insurance increased the likelihood of breastfeeding [https://www.sciencedirect.com/science/article/abs/pii/S0266613817302814].\n",
    "\n",
    "The Health Insurance Authority (HIA) in Ireland offers a comparsion tool for health insurance policies including the services available under each plan [https://www.hia.ie/]. A review, carried out in December 2020, shows that of 314 plans on offer 237 provide out patient maternity benefits which cover peri and post natal cover care and support systems. These include one-to-one postnatal consultation with a lactation consultant. \n",
    "\n",
    "For mother's without health insurance, maternity care in ireland is provided under the Maternity and Infant Care Scheme [https://www.hse.ie/eng/services/list/3/maternity/combinedcare.html]. This is a combined hospital and GP service for the duration of pregnancy and 6 weeks postpartum. No specific resources are made available to support breastfeeding. Though maternity hospitals and units may offer breastfeeding information sessions and one-to-one lactation consultations where needed. Access to these supports are limited. The Coombe Women's and Children's Hospital, for example, handles around 8,000 births per year [https://www.inmo.ie/Home/Index/217/13585] provides breastfeeding information sessions to less than 1,000 mothers per year [http://www.d1048212.blacknight.com/index.php?nodeId=231]. There are a number of community supports for breastfeeding including [Le Leche](https://www.lalecheleagueireland.com/), [Friends of Breastfeeding](https://www.friendsofbreastfeeding.ie/) and [Cuidiu](https://www.cuidiu.ie/) and private lactation consultants. Interestingly, neither Irish study assessed whether mother's accessed these services preinatally. \n",
    "\n",
    "Gallaghers research showed that 66% of insured mother's initiated breastfeeding [gallagher]. As insurance status can only have two possible outcomes (True or False) a binomial distribution was initially used to evaluate distribution across `n` number of births. "
   ]
  },
  {
   "cell_type": "code",
   "execution_count": 6,
   "metadata": {},
   "outputs": [
    {
     "data": {
      "image/png": "[encoded data removed]",
      "text/plain": [
       "<Figure size 432x288 with 1 Axes>"
      ]
     },
     "metadata": {
      "needs_background": "light"
     },
     "output_type": "display_data"
    }
   ],
   "source": [
    "sns.distplot(rng.binomial(n=10, p=0.66, size=n), hist=True, kde=False)\n",
    "plt.title('Insurance Distribution Based on Percentage Insured')\n",
    "plt.xlabel('Age Distribution')\n",
    "plt.ylabel('Number Insured')\n",
    "plt.show()"
   ]
  },
  {
   "cell_type": "markdown",
   "metadata": {},
   "source": [
    "While this randomly allocated health insurance status it didn't distribute this across the age groups in an informed way.\n",
    "\n",
    "The HIA also provide historical market statistics on insurance in Ireland (https://www.hia.ie/publication/market-statistics). Data for 2016 based on the age groups previously used, the number of the total population insured within these groupings that are insured and the percentage of the total insured ppopulation these represent was extracted from the HIA historical market statistics into a csv file. "
   ]
  },
  {
   "cell_type": "code",
   "execution_count": 7,
   "metadata": {
    "scrolled": true
   },
   "outputs": [
    {
     "data": {
      "text/html": [
       "<div>\n",
       "<style scoped>\n",
       "    .dataframe tbody tr th:only-of-type {\n",
       "        vertical-align: middle;\n",
       "    }\n",
       "\n",
       "    .dataframe tbody tr th {\n",
       "        vertical-align: top;\n",
       "    }\n",
       "\n",
       "    .dataframe thead th {\n",
       "        text-align: right;\n",
       "    }\n",
       "</style>\n",
       "<table border=\"1\" class=\"dataframe\">\n",
       "  <thead>\n",
       "    <tr style=\"text-align: right;\">\n",
       "      <th></th>\n",
       "      <th>Age</th>\n",
       "      <th>Total number</th>\n",
       "      <th>Percentage Insured</th>\n",
       "    </tr>\n",
       "  </thead>\n",
       "  <tbody>\n",
       "    <tr>\n",
       "      <th>0</th>\n",
       "      <td>Under 20</td>\n",
       "      <td>1102</td>\n",
       "      <td>10</td>\n",
       "    </tr>\n",
       "    <tr>\n",
       "      <th>1</th>\n",
       "      <td>20 - 24 Years</td>\n",
       "      <td>5178</td>\n",
       "      <td>9</td>\n",
       "    </tr>\n",
       "    <tr>\n",
       "      <th>2</th>\n",
       "      <td>25 - 29 Years</td>\n",
       "      <td>11391</td>\n",
       "      <td>9</td>\n",
       "    </tr>\n",
       "    <tr>\n",
       "      <th>3</th>\n",
       "      <td>30 - 34 Years</td>\n",
       "      <td>22947</td>\n",
       "      <td>14</td>\n",
       "    </tr>\n",
       "    <tr>\n",
       "      <th>4</th>\n",
       "      <td>35 - 39 Years</td>\n",
       "      <td>18728</td>\n",
       "      <td>19</td>\n",
       "    </tr>\n",
       "    <tr>\n",
       "      <th>5</th>\n",
       "      <td>40 - 45 Years</td>\n",
       "      <td>4101</td>\n",
       "      <td>19</td>\n",
       "    </tr>\n",
       "    <tr>\n",
       "      <th>6</th>\n",
       "      <td>45 years and Over</td>\n",
       "      <td>292</td>\n",
       "      <td>20</td>\n",
       "    </tr>\n",
       "  </tbody>\n",
       "</table>\n",
       "</div>"
      ],
      "text/plain": [
       "                 Age  Total number  Percentage Insured\n",
       "0           Under 20          1102                  10\n",
       "1      20 - 24 Years          5178                   9\n",
       "2      25 - 29 Years         11391                   9\n",
       "3      30 - 34 Years         22947                  14\n",
       "4      35 - 39 Years         18728                  19\n",
       "5      40 - 45 Years          4101                  19\n",
       "6  45 years and Over           292                  20"
      ]
     },
     "execution_count": 7,
     "metadata": {},
     "output_type": "execute_result"
    }
   ],
   "source": [
    "# Downloaded NPRS_Age.csv from CITE\n",
    "ins = pd.read_csv(\"Data/Insurance_by_Age.csv\")\n",
    "ins"
   ]
  },
  {
   "cell_type": "markdown",
   "metadata": {},
   "source": [
    "The extracted data shows a positive increase in the number of people insured from ages 20 to 35. Peaking significantly in the 35-39 category and declining thereafter. Visualising the data suppurts thsi analysis."
   ]
  },
  {
   "cell_type": "code",
   "execution_count": 8,
   "metadata": {},
   "outputs": [
    {
     "data": {
      "text/plain": [
       "[]"
      ]
     },
     "execution_count": 8,
     "metadata": {},
     "output_type": "execute_result"
    },
    {
     "data": {
      "image/png": "[encoded data removed]",
      "text/plain": [
       "<Figure size 500x300 with 1 Axes>"
      ]
     },
     "metadata": {
      "needs_background": "light"
     },
     "output_type": "display_data"
    }
   ],
   "source": [
    "ins = pd.read_csv('Data/Insurance_by_Age.csv', index_col='Age')\n",
    "ins = ins.T\n",
    "ins\n",
    "\n",
    "fig, ax = plt.subplots(figsize=(5,3), dpi=100)\n",
    "x_pos = np.arange(7)\n",
    "\n",
    "y = ins.iloc[1, :] / 100\n",
    "y = y*ins.iloc[0, :]\n",
    "ax.plot(x_pos, y, marker='o', label='Insurance')\n",
    "\n",
    "ax.set_title('Insurance by Age')\n",
    "ax.set_xlabel('Maternal Age')\n",
    "ax.set_ylabel('Number Insured')\n",
    "\n",
    "ax.set_xticks(x_pos)\n",
    "ax.set_xticklabels(ins.columns, rotation=90)\n",
    "plt.plot()"
   ]
  },
  {
   "cell_type": "markdown",
   "metadata": {},
   "source": [
    "While it isn't possibel to get a breakdown of insurance status by gender or linked to the parity of women within the given age groups, the above analysis has provided two points to work from in the generated dataset. The percentage of people within the age groups that are likely to have health insurance and that 66% of pregnant women have health insurance. "
   ]
  },
  {
   "cell_type": "markdown",
   "metadata": {},
   "source": [
    "### Initiate Breastfeeding\n",
    "\n"
   ]
  },
  {
   "cell_type": "markdown",
   "metadata": {},
   "source": [
    "This variable is based on the data used above and in Gallagher's study [gallagher]. \n",
    "\n",
    "Using the data from the NPRS report the percentage of women within each age group that are likely to initatie breastfeeding can be calculated."
   ]
  },
  {
   "cell_type": "code",
   "execution_count": 17,
   "metadata": {},
   "outputs": [
    {
     "data": {
      "text/html": [
       "<div>\n",
       "<style scoped>\n",
       "    .dataframe tbody tr th:only-of-type {\n",
       "        vertical-align: middle;\n",
       "    }\n",
       "\n",
       "    .dataframe tbody tr th {\n",
       "        vertical-align: top;\n",
       "    }\n",
       "\n",
       "    .dataframe thead th {\n",
       "        text-align: right;\n",
       "    }\n",
       "</style>\n",
       "<table border=\"1\" class=\"dataframe\">\n",
       "  <thead>\n",
       "    <tr style=\"text-align: right;\">\n",
       "      <th></th>\n",
       "      <th>Age Group</th>\n",
       "      <th>Artificial</th>\n",
       "      <th>Breast</th>\n",
       "      <th>Combined</th>\n",
       "      <th>Total</th>\n",
       "      <th>pct</th>\n",
       "    </tr>\n",
       "  </thead>\n",
       "  <tbody>\n",
       "    <tr>\n",
       "      <th>0</th>\n",
       "      <td>Under 20 Years</td>\n",
       "      <td>786</td>\n",
       "      <td>250</td>\n",
       "      <td>66</td>\n",
       "      <td>1102</td>\n",
       "      <td>22.686025</td>\n",
       "    </tr>\n",
       "    <tr>\n",
       "      <th>1</th>\n",
       "      <td>20-24 Years</td>\n",
       "      <td>3158</td>\n",
       "      <td>1632</td>\n",
       "      <td>388</td>\n",
       "      <td>5178</td>\n",
       "      <td>31.517961</td>\n",
       "    </tr>\n",
       "    <tr>\n",
       "      <th>2</th>\n",
       "      <td>25-29 Years</td>\n",
       "      <td>5409</td>\n",
       "      <td>4883</td>\n",
       "      <td>1099</td>\n",
       "      <td>11391</td>\n",
       "      <td>42.867176</td>\n",
       "    </tr>\n",
       "    <tr>\n",
       "      <th>3</th>\n",
       "      <td>30-34 Years</td>\n",
       "      <td>8284</td>\n",
       "      <td>12193</td>\n",
       "      <td>2470</td>\n",
       "      <td>22947</td>\n",
       "      <td>53.135486</td>\n",
       "    </tr>\n",
       "    <tr>\n",
       "      <th>4</th>\n",
       "      <td>35-39 Years</td>\n",
       "      <td>6458</td>\n",
       "      <td>10266</td>\n",
       "      <td>2004</td>\n",
       "      <td>18728</td>\n",
       "      <td>54.816318</td>\n",
       "    </tr>\n",
       "    <tr>\n",
       "      <th>5</th>\n",
       "      <td>40-44 Years</td>\n",
       "      <td>1380</td>\n",
       "      <td>2173</td>\n",
       "      <td>548</td>\n",
       "      <td>4101</td>\n",
       "      <td>52.987076</td>\n",
       "    </tr>\n",
       "    <tr>\n",
       "      <th>6</th>\n",
       "      <td>45 Years and Over</td>\n",
       "      <td>94</td>\n",
       "      <td>144</td>\n",
       "      <td>54</td>\n",
       "      <td>292</td>\n",
       "      <td>49.315068</td>\n",
       "    </tr>\n",
       "  </tbody>\n",
       "</table>\n",
       "</div>"
      ],
      "text/plain": [
       "           Age Group  Artificial  Breast  Combined  Total        pct\n",
       "0     Under 20 Years         786     250        66   1102  22.686025\n",
       "1        20-24 Years        3158    1632       388   5178  31.517961\n",
       "2        25-29 Years        5409    4883      1099  11391  42.867176\n",
       "3        30-34 Years        8284   12193      2470  22947  53.135486\n",
       "4        35-39 Years        6458   10266      2004  18728  54.816318\n",
       "5        40-44 Years        1380    2173       548   4101  52.987076\n",
       "6  45 Years and Over          94     144        54    292  49.315068"
      ]
     },
     "execution_count": 17,
     "metadata": {},
     "output_type": "execute_result"
    }
   ],
   "source": [
    "# Percentage of total births taht initiate breastfeeding\n",
    "age = pd.read_csv(\"Data/Age_and_Feeding_Type.csv\")\n",
    "age = age.iloc[0:7, 0:8]\n",
    "age['pct']=age['Breast']/(age['Total'])*100  \n",
    "\n",
    "age"
   ]
  },
  {
   "cell_type": "markdown",
   "metadata": {},
   "source": [
    "Additionally, this variable will be a dependant variable influenced by data from the other variables and information Gallagher's study:\n",
    "1. Women with health insurance are more likely to initiate breastfeeding\n",
    " * 66% of women have access to health insurance [gallagher]\n",
    "2. Civil Status influences the likelihood of breastfeeding\n",
    " * Married women are 3 times more likely to breastfeed"
   ]
  },
  {
   "cell_type": "markdown",
   "metadata": {},
   "source": [
    "## Generate Data Set"
   ]
  },
  {
   "cell_type": "code",
   "execution_count": 10,
   "metadata": {},
   "outputs": [],
   "source": [
    "# the number of records\n",
    "n = 100"
   ]
  },
  {
   "cell_type": "markdown",
   "metadata": {},
   "source": [
    "### Variable 1 - Age "
   ]
  },
  {
   "cell_type": "code",
   "execution_count": 11,
   "metadata": {},
   "outputs": [],
   "source": [
    "age_dist = (np.random.triangular(left = 16, mode = 30, right = 50, size = 500)).astype(int)\n",
    "age = rng.choice(age_dist, n)\n",
    "df = pd.DataFrame(age, columns = ['Maternal Age'])"
   ]
  },
  {
   "cell_type": "markdown",
   "metadata": {},
   "source": [
    "### Variable 2 - Civil Status"
   ]
  },
  {
   "cell_type": "code",
   "execution_count": 12,
   "metadata": {},
   "outputs": [],
   "source": [
    "civstat_options = ['single', 'married', 'other']\n",
    "df['Civil Status'] = rng.choice(civstat_options, n, p=[0.05, 0.39, 0.56])"
   ]
  },
  {
   "cell_type": "markdown",
   "metadata": {},
   "source": [
    "### Varible 3 - Insurance"
   ]
  },
  {
   "cell_type": "code",
   "execution_count": 13,
   "metadata": {},
   "outputs": [],
   "source": [
    "def ins_by_age (x):\n",
    "        \n",
    "        agerange_insurance = {range(15,20) : 10,\n",
    "                                  range(20,25) : 9,\n",
    "                                  range(25,30) : 9,\n",
    "                                  range(30,35) : 14,\n",
    "                                  range(35,40) : 19,\n",
    "                                  range(40,45) : 19,\n",
    "                                  range(45,50) : 20}\n",
    "        \n",
    "        for i in agerange_insurance:\n",
    "                if x in i:\n",
    "                        y =  rng.integers(1,100)\n",
    "                        if y <= agerange_insurance[i]:\n",
    "                              return True  \n",
    "                        return False\n",
    "                    \n",
    "health_ins_status = np.array([ins_by_age(i) for i in age])\n",
    "\n",
    "df['Health Insurance Status'] = health_ins_status"
   ]
  },
  {
   "cell_type": "markdown",
   "metadata": {},
   "source": [
    "### Variable 4 - Initate Breastfeeding"
   ]
  },
  {
   "cell_type": "code",
   "execution_count": 14,
   "metadata": {},
   "outputs": [],
   "source": [
    "def breastfeeding(x):\n",
    "        \n",
    "        bf_status = {range(15,20) : 23,\n",
    "                     range(20,25) : 32,\n",
    "                     range(25,30) : 43,\n",
    "                     range(30,35) : 53,\n",
    "                     range(35,40) : 55,\n",
    "                     range(40,45) : 53,\n",
    "                     range(45,50) : 50}\n",
    "\n",
    "        a = age[x]  \n",
    "        b = health_ins_status[x]  \n",
    "        c = civil_status[x]  \n",
    "\n",
    "        q = 3 if c == 'Married' else 2 if c == 'Single' else 1 \n",
    "         \n",
    "        for i in bf_status:\n",
    "                if a in i:\n",
    "                        y =  rng.integers(1,1000)\n",
    "                        if y <= q*bf_status[i] or (b == True and y <= 666):\n",
    "                              return True  \n",
    "                        return False\n",
    "\n",
    "initiate_bf = np.array([breastfeeding(i) for i in age])\n",
    "\n",
    "df['Initiate Breastfeeding'] = initiate_bf"
   ]
  },
  {
   "cell_type": "code",
   "execution_count": 15,
   "metadata": {},
   "outputs": [
    {
     "data": {
      "text/html": [
       "<div>\n",
       "<style scoped>\n",
       "    .dataframe tbody tr th:only-of-type {\n",
       "        vertical-align: middle;\n",
       "    }\n",
       "\n",
       "    .dataframe tbody tr th {\n",
       "        vertical-align: top;\n",
       "    }\n",
       "\n",
       "    .dataframe thead th {\n",
       "        text-align: right;\n",
       "    }\n",
       "</style>\n",
       "<table border=\"1\" class=\"dataframe\">\n",
       "  <thead>\n",
       "    <tr style=\"text-align: right;\">\n",
       "      <th></th>\n",
       "      <th>Maternal Age</th>\n",
       "      <th>Civil Status</th>\n",
       "      <th>Health Insurance Status</th>\n",
       "      <th>Initiate Breastfeeding</th>\n",
       "    </tr>\n",
       "  </thead>\n",
       "  <tbody>\n",
       "    <tr>\n",
       "      <th>0</th>\n",
       "      <td>29</td>\n",
       "      <td>other</td>\n",
       "      <td>False</td>\n",
       "      <td>False</td>\n",
       "    </tr>\n",
       "    <tr>\n",
       "      <th>1</th>\n",
       "      <td>47</td>\n",
       "      <td>married</td>\n",
       "      <td>True</td>\n",
       "      <td>False</td>\n",
       "    </tr>\n",
       "    <tr>\n",
       "      <th>2</th>\n",
       "      <td>31</td>\n",
       "      <td>single</td>\n",
       "      <td>False</td>\n",
       "      <td>False</td>\n",
       "    </tr>\n",
       "    <tr>\n",
       "      <th>3</th>\n",
       "      <td>24</td>\n",
       "      <td>married</td>\n",
       "      <td>False</td>\n",
       "      <td>False</td>\n",
       "    </tr>\n",
       "    <tr>\n",
       "      <th>4</th>\n",
       "      <td>42</td>\n",
       "      <td>married</td>\n",
       "      <td>False</td>\n",
       "      <td>False</td>\n",
       "    </tr>\n",
       "    <tr>\n",
       "      <th>...</th>\n",
       "      <td>...</td>\n",
       "      <td>...</td>\n",
       "      <td>...</td>\n",
       "      <td>...</td>\n",
       "    </tr>\n",
       "    <tr>\n",
       "      <th>95</th>\n",
       "      <td>32</td>\n",
       "      <td>other</td>\n",
       "      <td>False</td>\n",
       "      <td>True</td>\n",
       "    </tr>\n",
       "    <tr>\n",
       "      <th>96</th>\n",
       "      <td>29</td>\n",
       "      <td>other</td>\n",
       "      <td>False</td>\n",
       "      <td>False</td>\n",
       "    </tr>\n",
       "    <tr>\n",
       "      <th>97</th>\n",
       "      <td>29</td>\n",
       "      <td>married</td>\n",
       "      <td>False</td>\n",
       "      <td>False</td>\n",
       "    </tr>\n",
       "    <tr>\n",
       "      <th>98</th>\n",
       "      <td>33</td>\n",
       "      <td>other</td>\n",
       "      <td>False</td>\n",
       "      <td>False</td>\n",
       "    </tr>\n",
       "    <tr>\n",
       "      <th>99</th>\n",
       "      <td>39</td>\n",
       "      <td>married</td>\n",
       "      <td>False</td>\n",
       "      <td>True</td>\n",
       "    </tr>\n",
       "  </tbody>\n",
       "</table>\n",
       "<p>100 rows × 4 columns</p>\n",
       "</div>"
      ],
      "text/plain": [
       "    Maternal Age Civil Status  Health Insurance Status  Initiate Breastfeeding\n",
       "0             29        other                    False                   False\n",
       "1             47      married                     True                   False\n",
       "2             31       single                    False                   False\n",
       "3             24      married                    False                   False\n",
       "4             42      married                    False                   False\n",
       "..           ...          ...                      ...                     ...\n",
       "95            32        other                    False                    True\n",
       "96            29        other                    False                   False\n",
       "97            29      married                    False                   False\n",
       "98            33        other                    False                   False\n",
       "99            39      married                    False                    True\n",
       "\n",
       "[100 rows x 4 columns]"
      ]
     },
     "execution_count": 15,
     "metadata": {},
     "output_type": "execute_result"
    }
   ],
   "source": [
    "# https://stackoverflow.com/questions/25351968/how-to-display-full-non-truncated-dataframe-information-in-html-when-convertin\n",
    "# https://pandas.pydata.org/pandas-docs/stable/user_guide/options.html#frequently-used-options\n",
    "\n",
    "pd.set_option(\"expand_frame_repr\", True)\n",
    "\n",
    "df"
   ]
  },
  {
   "cell_type": "markdown",
   "metadata": {},
   "source": [
    "## References\n",
    "\n",
    "American Academy of Pediatrics. (2012). Breastfeeding and the use of human milk. Pediatrics, 129(3), e827–e841. Retrieved April 27, 2012, from https://pediatrics.aappublications.org/content/129/3/e827\n",
    "\n",
    "Borra, C., Iacovou, M., Sevilla, A. 2015. New evidence on breastfeeding and postpartum depression: the importance of understanding women’s intentions. Maternal and Child Health Journal, 19, pp. 887-907.\n",
    "\n",
    "Dennis, C.L., McQueen, K. 2009. The relationship between infant-feeding outcomes and postpartum depression: a qualitative systematic review. Pediatrics, 123, pp. 736-751\n",
    "\n",
    "Gallagher L, Begley C, Clarke M, Determinants of breastfeeding initiation in Ireland., Irish journal of medical science, 185, 3, 2015, 663 - 668\n",
    "\n",
    "National Health Service (2020) Benefits of breastfeeding - Your pregnancy and baby guide, Available at: https://www.nhs.uk/conditions/pregnancy-and-baby/benefits-breastfeeding/ \n",
    "\n",
    "World Health Organisation (2020) Breastfeeding, Available at: https://www.who.int/health-topics/breastfeeding#tab=tab_1 \n",
    "\n",
    "\n",
    "### Other Sources\n",
    "Yvonne L. Hauck, Ingrid Blixt, Ingegerd Hildingsson, Louise Gallagher, Christine Rubertsson, Brooke Thomson and Lucy Lewis, Australian, Irish and Swedish women's perceptions of what assisted them to breastfeed for six months: exploratory design using critical incident technique, BMC Public Health, 16, (1067), 2016\n",
    "\n",
    "Basic Syntax, Available at: https://www.markdownguide.org/basic-syntax/\n",
    "\n",
    "Mastering Markdown, Available at: https://guides.github.com/features/mastering-markdown/\n",
    "\n",
    "Matplotlib: Visualization with Python, Available at: https://matplotlib.org/\n",
    "\n",
    "Seaborn User guide and tutorial, Available at: https://seaborn.pydata.org/tutorial.html"
   ]
  },
  {
   "cell_type": "code",
   "execution_count": null,
   "metadata": {},
   "outputs": [],
   "source": []
  }
 ],
 "metadata": {
  "kernelspec": {
   "display_name": "Python 3",
   "language": "python",
   "name": "python3"
  },
  "language_info": {
   "codemirror_mode": {
    "name": "ipython",
    "version": 3
   },
   "file_extension": ".py",
   "mimetype": "text/x-python",
   "name": "python",
   "nbconvert_exporter": "python",
   "pygments_lexer": "ipython3",
   "version": "3.8.3"
  }
 },
 "nbformat": 4,
 "nbformat_minor": 4
}
