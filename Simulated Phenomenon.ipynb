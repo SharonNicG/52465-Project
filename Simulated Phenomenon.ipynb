{
 "cells": [
  {
   "cell_type": "code",
   "execution_count": 3,
   "metadata": {},
   "outputs": [],
   "source": [
    "# Import the pandas library for df creation\n",
    "import pandas as pd\n",
    "\n",
    "# Import the NumPy library to use the random package\n",
    "import numpy as np\n",
    "\n",
    "# Import the matplotlib library, package pyplot for plotting\n",
    "import matplotlib.pyplot as plt\n",
    "\n",
    "# Use magic function to render the figure in a notebook\n",
    "%matplotlib inline\n",
    "\n",
    "# Import the seaborn library for plotting\n",
    "import seaborn as sns\n",
    "\n",
    "# Sets Generator type with a declared value of 100\n",
    "rng = np.random.default_rng(100)\n",
    "\n",
    "# Set number of samples based on number of births\n",
    "n = 63739"
   ]
  },
  {
   "cell_type": "markdown",
   "metadata": {},
   "source": [
    "### Age\n",
    "\n",
    "A review of data provided by the NPRS study is used here to determine how maternal age is distributed across the population - mothers with live births in 2016 (http://www.hpo.ie/latest_hipe_nprs_reports/NPRS_2017/Perinatal_Statistics_Report_2017.pdf).\n",
    "\n",
    "While age is a numerical value it is presented by NPRS as a categorical variable/discrete groups, ranging from under 20 years of age to 45 years of age and older. The NPRS study provides the frequency and percentages of births within each group."
   ]
  },
  {
   "cell_type": "code",
   "execution_count": 4,
   "metadata": {},
   "outputs": [
    {
     "data": {
      "text/html": [
       "<div>\n",
       "<style scoped>\n",
       "    .dataframe tbody tr th:only-of-type {\n",
       "        vertical-align: middle;\n",
       "    }\n",
       "\n",
       "    .dataframe tbody tr th {\n",
       "        vertical-align: top;\n",
       "    }\n",
       "\n",
       "    .dataframe thead th {\n",
       "        text-align: right;\n",
       "    }\n",
       "</style>\n",
       "<table border=\"1\" class=\"dataframe\">\n",
       "  <thead>\n",
       "    <tr style=\"text-align: right;\">\n",
       "      <th></th>\n",
       "      <th>Frequency</th>\n",
       "      <th>Total Births</th>\n",
       "    </tr>\n",
       "  </thead>\n",
       "  <tbody>\n",
       "    <tr>\n",
       "      <th>0</th>\n",
       "      <td>Under 20</td>\n",
       "      <td>1102</td>\n",
       "    </tr>\n",
       "    <tr>\n",
       "      <th>1</th>\n",
       "      <td>20-24 Years</td>\n",
       "      <td>5178</td>\n",
       "    </tr>\n",
       "    <tr>\n",
       "      <th>2</th>\n",
       "      <td>25-29 Years</td>\n",
       "      <td>11391</td>\n",
       "    </tr>\n",
       "    <tr>\n",
       "      <th>3</th>\n",
       "      <td>30-34 Years</td>\n",
       "      <td>22947</td>\n",
       "    </tr>\n",
       "    <tr>\n",
       "      <th>4</th>\n",
       "      <td>35-39 Years</td>\n",
       "      <td>18728</td>\n",
       "    </tr>\n",
       "    <tr>\n",
       "      <th>5</th>\n",
       "      <td>40-44 Years</td>\n",
       "      <td>4101</td>\n",
       "    </tr>\n",
       "    <tr>\n",
       "      <th>6</th>\n",
       "      <td>45 Years and</td>\n",
       "      <td>292</td>\n",
       "    </tr>\n",
       "    <tr>\n",
       "      <th>7</th>\n",
       "      <td>Total</td>\n",
       "      <td>63739</td>\n",
       "    </tr>\n",
       "  </tbody>\n",
       "</table>\n",
       "</div>"
      ],
      "text/plain": [
       "       Frequency  Total Births\n",
       "0      Under 20           1102\n",
       "1    20-24 Years          5178\n",
       "2    25-29 Years         11391\n",
       "3    30-34 Years         22947\n",
       "4    35-39 Years         18728\n",
       "5    40-44 Years          4101\n",
       "6  45 Years and            292\n",
       "7          Total         63739"
      ]
     },
     "execution_count": 4,
     "metadata": {},
     "output_type": "execute_result"
    }
   ],
   "source": [
    "# Downloaded NPRS_Age.csv from CITE\n",
    "age = pd.read_csv(\"Data/NPRS_Age.csv\", nrows=10)\n",
    "\n",
    "age"
   ]
  },
  {
   "cell_type": "markdown",
   "metadata": {},
   "source": [
    "An initial view of the NPRS data indicates that the data is somewhat normally distributed with births increasing in the 25 - 29 age group, peaking at 30 - 34 years of age and beginning to decline in the 35 - 39 age set."
   ]
  },
  {
   "cell_type": "code",
   "execution_count": 5,
   "metadata": {
    "scrolled": true
   },
   "outputs": [
    {
     "data": {
      "image/png": "[encoded data removed]",
      "text/plain": [
       "<Figure size 720x360 with 1 Axes>"
      ]
     },
     "metadata": {
      "needs_background": "light"
     },
     "output_type": "display_data"
    }
   ],
   "source": [
    "# drop last n rows\n",
    "age = age[:-1]\n",
    "# Plot \n",
    "g = sns.catplot(x=\"Frequency\", y=\"Total Births\", data = age)\n",
    "\n",
    "g.fig.set_figwidth(10)\n",
    "g.fig.set_figheight(5)\n",
    "\n",
    "plt.xlabel('Age')\n",
    "plt.ylabel('Frequency')\n",
    "plt.grid()"
   ]
  },
  {
   "cell_type": "markdown",
   "metadata": {},
   "source": [
    "Visualising the data set supports this analysis.\n",
    "It shows a minimum value of less than 20 years of age increasing in a positive direction until it significant peak around 32 years of age - the midpoint of the age group with the greatest frequency of births. \n",
    "\n",
    "This can be replicated using a Trinangualr Distribution. This generates a random number from a weighted range by distribuing events between the maximum and minimum values provided, based on a third value that indicates what the most likely outcome will be.[54] Here we are looking for 100 events (births) distributed between the ages of 16 and 50 with a known peak where the mothers age is 32."
   ]
  },
  {
   "cell_type": "code",
   "execution_count": 6,
   "metadata": {},
   "outputs": [
    {
     "name": "stdout",
     "output_type": "stream",
     "text": [
      "Here is your triangular continuous random variable:\n",
      " [25 42 46 43 36 30 41 44 27 32 30 26 23 31 30 41 41 34 43 35 32 24 47 22\n",
      " 27 45 28 39 42 31 32 36 38 38 27 23 30 32 36 28 26 33 32 31 33 34 32 38\n",
      " 27 29 27 30 43 30 21 38 38 45 28 25 43 34 38 22 35 33 30 36 28 31 32 23\n",
      " 31 30 28 34 30 46 34 47 37 21 36 41 39 41 35 30 24 38 27 35 33 45 44 46\n",
      " 41 36 23 33]\n"
     ]
    },
    {
     "data": {
      "image/png": "[encoded data removed]",
      "text/plain": [
       "<Figure size 432x288 with 1 Axes>"
      ]
     },
     "metadata": {
      "needs_background": "light"
     },
     "output_type": "display_data"
    }
   ],
   "source": [
    "# Here we are looking for a random array with a lower limit of 16 an upper limit of 50\n",
    "# and 32 being the number that appears most frequently (the mid point of the most frequent age group)\n",
    "# over n number of instances where n is the total number of births\n",
    "# and for the out to be presented on a Triangular Distribution plot\n",
    "\n",
    "Tri_var = np.random.triangular(left = 20, mode = 30, right = 50, size = 100).astype(int)\n",
    "print (\"Here is your triangular continuous random variable:\\n % s\" % (Tri_var)) # [55]\n",
    "\n",
    "#  https://stackoverflow.com/questions/60870070/a-weighted-version-of-random-randint\n",
    "plt.hist(np.ma.round(np.random.triangular(left = 20, mode = 30, right = 50, size = 100)).astype(int),\n",
    "        range = (16, 50), bins = 300, density = True)\n",
    "\n",
    "plt.title('Distribution of Age Variable')\n",
    "plt.xlabel('Maternal Age at Birth of Child')\n",
    "plt.ylabel('Frequency')\n",
    "plt.show()"
   ]
  },
  {
   "cell_type": "code",
   "execution_count": 8,
   "metadata": {},
   "outputs": [
    {
     "name": "stdout",
     "output_type": "stream",
     "text": [
      "    Maternal age at birth\n",
      "0                      31\n",
      "1                      40\n",
      "2                      31\n",
      "3                      26\n",
      "4                      38\n",
      "..                    ...\n",
      "95                     44\n",
      "96                     23\n",
      "97                     37\n",
      "98                     45\n",
      "99                     27\n",
      "\n",
      "[100 rows x 1 columns]\n"
     ]
    }
   ],
   "source": [
    "# intialise data of lists.\n",
    "data = {'Age Group':['Under 20', '20-24 Years', '25-29 Years', '30-34 Years',\n",
    "                    '35-39 Years', '40-44 Years', '45 Years and Over'],\n",
    "        'Age':[]}\n",
    " \n",
    "# Create DataFrame with single column for Age\n",
    "df = pd.DataFrame((np.random.triangular(left = 20, mode = 30, right = 50, size = 100)).astype(int), columns=['Maternal age at birth'])\n",
    " \n",
    "# Print the output.\n",
    "print(df)"
   ]
  },
  {
   "cell_type": "markdown",
   "metadata": {},
   "source": [
    "### Civil Status"
   ]
  },
  {
   "cell_type": "markdown",
   "metadata": {},
   "source": [
    "Univariate analysis by Gallagher shows that maternal marital status at the time of birth is significantly associated with breastfeeding initiation (Gallagher L, Begley C, Clarke M, Determinants of breastfeeding initiation in Ireland., Irish journal of medical science, 185, 3, 2015, 663 - 668).\n",
    "\n",
    "Data captured in the 2016 NPRS survey does not capture relational data between breastfeeding initiation and maternal marital status at the time of birth (http://www.hpo.ie/latest_hipe_nprs_reports/NPRS_2016/Perinatal_Statistics_Report_2016.pdf). However it does provide percentage values for maternal marital status across all age groups:\n",
    "\n",
    "| Maternal Civil Status at birth | Percentage of Total births |\n",
    "|--------------------------------|----------------------------|\n",
    "| Married                        | 62.2                       |\n",
    "| Single                         | 36.4                       |\n",
    "| Other                          | 1.4                        |\n",
    "\n",
    "\n",
    "CSO data on civil status for 2016 does record information across all age groups (https://www.cso.ie/en/releasesandpublications/er/mcp/marriagesandcivilpartnerships2016/). However, as it only captures data for \n",
    "* Marriages\n",
    "* Civil parnerships\n",
    "* Divorces, Judicial Separation and Nullity applications received by the courts \n",
    "* Divorces, Judicial Separation and Nullity applications granted by the courts \n",
    "\n",
    "It does not capture other civil arrangements such as informal seperations or and co-habitants.\n",
    "\n",
    "For the purposes of this simulation the NPRS data will be used.\n",
    "\n",
    "This is a categorical variable that has 3 possible values\n",
    "1. Married\n",
    "2. Single\n",
    "3. Other (encompassing all other civil statuses as indentified by the survey respondant)"
   ]
  },
  {
   "cell_type": "code",
   "execution_count": 18,
   "metadata": {},
   "outputs": [
    {
     "name": "stdout",
     "output_type": "stream",
     "text": [
      "Single:  14056\n",
      "Married:  45799\n",
      "Other:  3884\n"
     ]
    }
   ],
   "source": [
    "# Classifying Martial Status\n",
    "# 'single' if single, 'married' if married and 'other' for all other categories\n",
    "civil_status = ['single', 'married', 'other']\n",
    "\n",
    "# \n",
    "civil_status = rng.choice(civil_status, n, p=[0.22, 0.72, 0.06])\n",
    "\n",
    "# CITE\n",
    "print(\"Single: \", np.count_nonzero(civil_status == 'single'))\n",
    "print(\"Married: \", np.count_nonzero(civil_status == 'married'))\n",
    "print(\"Other: \", np.count_nonzero(civil_status == 'other'))"
   ]
  },
  {
   "cell_type": "code",
   "execution_count": 19,
   "metadata": {},
   "outputs": [
    {
     "data": {
      "image/png": "[encoded data removed]",
      "text/plain": [
       "<Figure size 432x288 with 1 Axes>"
      ]
     },
     "metadata": {},
     "output_type": "display_data"
    }
   ],
   "source": [
    "# Plot the distribution of marital_status values\n",
    "# https://matplotlib.org/3.1.1/gallery/pie_and_polar_charts/pie_features.html\n",
    "# Pie chart, where the slices will be ordered and plotted counter-clockwise:\n",
    "\n",
    "labels = \"Single\", \"Married\", \"Other\"\n",
    "sizes = [14096, 45739, 3904]\n",
    "explode = (0, 0.1, 0)  # only \"explode\" the 2nd slice (i.e. 'Hogs')\n",
    "\n",
    "# https://medium.com/@kvnamipara/a-better-visualisation-of-pie-charts-by-matplotlib-935b7667d77f\n",
    "fig1, ax1 = plt.subplots()\n",
    "ax1.pie(sizes, explode=explode, labels=labels, pctdistance=0.85, autopct='%1.1f%%',\n",
    "        shadow=True, startangle=90)\n",
    "\n",
    "ax1.axis('equal')  # Equal aspect ratio ensures that pie is drawn as a circle.\n",
    "\n",
    "plt.show()"
   ]
  },
  {
   "cell_type": "code",
   "execution_count": 27,
   "metadata": {},
   "outputs": [
    {
     "ename": "ValueError",
     "evalue": "'a' and 'p' must have same size",
     "output_type": "error",
     "traceback": [
      "\u001b[1;31m---------------------------------------------------------------------------\u001b[0m",
      "\u001b[1;31mValueError\u001b[0m                                Traceback (most recent call last)",
      "\u001b[1;32m<ipython-input-27-dda41d091c0d>\u001b[0m in \u001b[0;36m<module>\u001b[1;34m\u001b[0m\n\u001b[1;32m----> 1\u001b[1;33m \u001b[0msim_civil_status\u001b[0m \u001b[1;33m=\u001b[0m \u001b[0mnp\u001b[0m\u001b[1;33m.\u001b[0m\u001b[0mrandom\u001b[0m\u001b[1;33m.\u001b[0m\u001b[0mchoice\u001b[0m\u001b[1;33m(\u001b[0m\u001b[0mcivil_status\u001b[0m\u001b[1;33m,\u001b[0m \u001b[1;36m100\u001b[0m\u001b[1;33m,\u001b[0m \u001b[0mp\u001b[0m\u001b[1;33m=\u001b[0m\u001b[1;33m[\u001b[0m\u001b[1;36m0.22\u001b[0m\u001b[1;33m,\u001b[0m \u001b[1;36m0.72\u001b[0m\u001b[1;33m,\u001b[0m \u001b[1;36m0.06\u001b[0m\u001b[1;33m]\u001b[0m\u001b[1;33m)\u001b[0m\u001b[1;33m\u001b[0m\u001b[1;33m\u001b[0m\u001b[0m\n\u001b[0m\u001b[0;32m      2\u001b[0m \u001b[0mdf\u001b[0m \u001b[1;33m=\u001b[0m \u001b[0mpd\u001b[0m\u001b[1;33m.\u001b[0m\u001b[0mDataFrame\u001b[0m\u001b[1;33m(\u001b[0m\u001b[0msim_civil_status\u001b[0m\u001b[1;33m,\u001b[0m \u001b[0mcolumns\u001b[0m \u001b[1;33m=\u001b[0m \u001b[1;33m[\u001b[0m\u001b[1;34m'Civil Status'\u001b[0m\u001b[1;33m]\u001b[0m\u001b[1;33m)\u001b[0m\u001b[1;33m\u001b[0m\u001b[1;33m\u001b[0m\u001b[0m\n\u001b[0;32m      3\u001b[0m \u001b[0mprunt\u001b[0m \u001b[1;33m(\u001b[0m\u001b[0mdf\u001b[0m\u001b[1;33m)\u001b[0m\u001b[1;33m\u001b[0m\u001b[1;33m\u001b[0m\u001b[0m\n",
      "\u001b[1;32mmtrand.pyx\u001b[0m in \u001b[0;36mnumpy.random.mtrand.RandomState.choice\u001b[1;34m()\u001b[0m\n",
      "\u001b[1;31mValueError\u001b[0m: 'a' and 'p' must have same size"
     ]
    }
   ],
   "source": [
    "sim_civil_status = np.random.choice(civil_status, 100, p=[0.22, 0.72, 0.06])\n",
    "df = pd.DataFrame(sim_civil_status, columns = ['Civil Status'])\n",
    "prunt (df)"
   ]
  },
  {
   "cell_type": "markdown",
   "metadata": {},
   "source": [
    "### Health Insurance Status"
   ]
  },
  {
   "cell_type": "code",
   "execution_count": null,
   "metadata": {},
   "outputs": [],
   "source": []
  }
 ],
 "metadata": {
  "kernelspec": {
   "display_name": "Python 3",
   "language": "python",
   "name": "python3"
  },
  "language_info": {
   "codemirror_mode": {
    "name": "ipython",
    "version": 3
   },
   "file_extension": ".py",
   "mimetype": "text/x-python",
   "name": "python",
   "nbconvert_exporter": "python",
   "pygments_lexer": "ipython3",
   "version": "3.8.3"
  }
 },
 "nbformat": 4,
 "nbformat_minor": 4
}
