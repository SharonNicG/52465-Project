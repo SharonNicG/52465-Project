{
 "cells": [
  {
   "cell_type": "code",
   "execution_count": 1,
   "metadata": {},
   "outputs": [],
   "source": [
    "# Import the pandas library for df creation\n",
    "import pandas as pd\n",
    "\n",
    "# Import the NumPy library to use the random package\n",
    "import numpy as np\n",
    "\n",
    "# Import the matplotlib library, package pyplot for plotting\n",
    "import matplotlib.pyplot as plt\n",
    "\n",
    "# Use magic function to render the figure in a notebook\n",
    "%matplotlib inline\n",
    "\n",
    "# Import the seaborn library for plotting\n",
    "import seaborn as sns\n",
    "\n",
    "# Sets Generator type with a declared value of 100\n",
    "rng = np.random.default_rng(100)\n",
    "\n",
    "# Set number of samples based on number of births\n",
    "n = 63739"
   ]
  },
  {
   "cell_type": "markdown",
   "metadata": {},
   "source": [
    "## Introduction\n",
    "\n",
    "\n",
    "The project requires us to simulate a real-world phenomenon of our choosing.\n",
    "We have been asked to model and synthesis data related to this phenomenon using Python, in particular the numpy.random library. The output of the project should be a synthesized data set.\n",
    "\n",
    "I will be examining the rate of breastfeeding initiation in Ireland.  I will create a dataset of variables associated with breastfeeding. I will simulate the distribution of breastfeeding initiation in a random sample of an identified segment of the population. I will explore the relationships, if any, between these factors and how they may influence the rate of breastfeeding initiation.\n",
    "\n",
    "This will include:\n",
    "1.\tThe distribution of breastfeeding initiation in an identified segment of the population\n",
    "2.\tThe factors contributing to breastfeeding initiation\n",
    "3.\tHow these factors are distributed in the identified segment of the population\n",
    "\n",
    "This topic is of particular interest to me as I have been successfully breastfeeding my own daughter for the past year. The publication of the NIPRS 2019 report received widespread new coverage and highlighted the low rates of breastfeeding in Ireland. On reflection I was unable to identify how I had arrived at the decision to breastfeed. I began to read more on the topic including how rates in Ireland compare to international rates and the socio-cultural change sin breastfeeding. From this the initial influencing factors on breastfeeding initiation outlined above were identified. While I meet some of the criteria, I do not meet all. And yet as a mother in Ireland exclusively breastfeeding for over 12 months, I am one of only 7%. This intrigued me and I wanted to examine what factors known and unknown tome may have influenced my decision and breastfeeding journey. \n",
    "\n",
    "### Breastfeeding \n",
    "\n",
    "#### What is breastfeeding?\n",
    "Breastfeeding, or nursing, is the process of providing an infant with their mother’s breastmilk (WHO). This is usually done directly from the breast but can also be provided indirectly using expressed breast milk (Ibid.). \n",
    "Breastfeeding is important as it offers numerous health benefits for both mother and infant:\n",
    "Benefits to infant:\n",
    "* Breast milk is naturally designed to meet the calorific and nutritional needs of an infant (WHO) and adapts to meet the needs of the infant as they change (NHS)\n",
    "* Breast milk provides natural antibodies that help to protect against common infections and diseases (WHO, NHS)\n",
    "* Breastfeeding is associated with better long-term health and wellbeing outcomes including less likelihood developing asthma or obesity and higher income in adult life (WHO)\n",
    "\n",
    "Benefits to mother: \n",
    "* Breastfeeding lowers the mother’s risk of breast and ovarian cancer, osteoporosis, cardiovascular disease, and obesity (NHS). \n",
    "* Breastfeeding is associated with lower rates of post-natal depression and fewer depressive symptoms for women who do develop post-natal depression while breastfeeding (Borra, Dennis).  \n",
    "* Breastfeeding is a cost effective, safe and hygienic method of infant feeding (WHO). \n",
    "\n",
    "The World Health Organisation, and numerous other organizations (AAP, NHS, HSE) recommend exclusively breastfeeding for the first 6 months of an infant’s life and breastfeeding supplemented by other foods from 6 months on. \n",
    "However, globally nearly 2 out of 3 infants are not exclusively breastfed for the first 6 months (WHO). “The breastfeeding initiation rate of 63.8% in maternity hospitals in Ireland is among the lowest in the world, compared to rates of 90% in Australia, 81% in the UK and 79% in the USA (HSE, 2016; NHS, 2011; PHAA, 2010, CDC, 2014). (IMIS 2019).\n",
    "“The WHO Global Targets to improve maternal, infant and young child nutrition include the target of an increase, by 2025, to a rate of at least 50% exclusive breastfeeding in the first six months. According to WHO World Health Statistics 2013, 15% of children in Ireland are exclusively breastfed for the first six months compared with the global average of 38% and WHO European average of 25% (WHO, 2013).\n",
    "\n",
    "“Despite gradual increases over the last ten years, Ireland’s breastfeeding rates continue to be the lowest in international comparisons (Victora et al. 2016; EuroPeriStat, 2013) with implications for maternal and child health. Most recently published NPRS data reports 56.9% any breastfeeding on discharge from maternity services, 46.3% exclusive breastfeeding (HSE, 2016). Breastfeeding initiation rates in Ireland are currently among the lowest in the world, compared to initiation rates of 90% in Australia, 81% in the UK and 79% in the USA (HSE, 2016; NHS, 2011; PHAA, 2010, CDC, 2014). Breastfeeding rates strongly correlate to maternal education and social class. The Growing up in Ireland study found that 79% of mothers who breastfed had a third-level degree breastfed compared to 29% who left school at Junior Certificate level (Williams et al, 2010). (HSE).\n",
    "\n",
    "\n",
    "\n",
    "\n",
    "\n",
    "| Variable Name            | Description        | Data Type | Distribution      |\n",
    "|--------------------------|--------------------|-----------|-------------------|\n",
    "| Age                      |                    | Numeric   | Normal/Triangular |\n",
    "| Civil Status             |                    | Boolean   |                   |\n",
    "| Private Health Insurance |                    | Boolean   |                   |\n",
    "| Breastfeeding Initiation | Dependent Variable | Boolean   |                   |"
   ]
  },
  {
   "cell_type": "markdown",
   "metadata": {},
   "source": [
    "### Age\n",
    "\n",
    "A review of data provided by the NPRS study is used here to determine how maternal age is distributed across the population - mothers with live births in 2016 (http://www.hpo.ie/latest_hipe_nprs_reports/NPRS_2017/Perinatal_Statistics_Report_2017.pdf).\n",
    "\n",
    "While age is a numerical value it is presented by NPRS as a categorical variable/discrete groups, ranging from under 20 years of age to 45 years of age and older. The NPRS study provides the frequency and percentages of births within each group."
   ]
  },
  {
   "cell_type": "code",
   "execution_count": 2,
   "metadata": {
    "scrolled": true
   },
   "outputs": [
    {
     "data": {
      "text/html": [
       "<div>\n",
       "<style scoped>\n",
       "    .dataframe tbody tr th:only-of-type {\n",
       "        vertical-align: middle;\n",
       "    }\n",
       "\n",
       "    .dataframe tbody tr th {\n",
       "        vertical-align: top;\n",
       "    }\n",
       "\n",
       "    .dataframe thead th {\n",
       "        text-align: right;\n",
       "    }\n",
       "</style>\n",
       "<table border=\"1\" class=\"dataframe\">\n",
       "  <thead>\n",
       "    <tr style=\"text-align: right;\">\n",
       "      <th>Age Group</th>\n",
       "      <th>Under 20 Years</th>\n",
       "      <th>20-24 Years</th>\n",
       "      <th>25-29 Years</th>\n",
       "      <th>30-34 Years</th>\n",
       "      <th>35-39 Years</th>\n",
       "      <th>40-44 Years</th>\n",
       "      <th>45 Years and Over</th>\n",
       "    </tr>\n",
       "  </thead>\n",
       "  <tbody>\n",
       "    <tr>\n",
       "      <th>Artificial</th>\n",
       "      <td>786</td>\n",
       "      <td>3,158</td>\n",
       "      <td>5,409</td>\n",
       "      <td>8,284</td>\n",
       "      <td>6,458</td>\n",
       "      <td>1,380</td>\n",
       "      <td>94</td>\n",
       "    </tr>\n",
       "    <tr>\n",
       "      <th>Breast</th>\n",
       "      <td>250</td>\n",
       "      <td>1,632</td>\n",
       "      <td>4,883</td>\n",
       "      <td>12,193</td>\n",
       "      <td>10,266</td>\n",
       "      <td>2,173</td>\n",
       "      <td>144</td>\n",
       "    </tr>\n",
       "    <tr>\n",
       "      <th>Combined</th>\n",
       "      <td>66</td>\n",
       "      <td>388</td>\n",
       "      <td>1,099</td>\n",
       "      <td>2,470</td>\n",
       "      <td>2,004</td>\n",
       "      <td>548</td>\n",
       "      <td>54</td>\n",
       "    </tr>\n",
       "    <tr>\n",
       "      <th>Total</th>\n",
       "      <td>1,102</td>\n",
       "      <td>5,178</td>\n",
       "      <td>11,391</td>\n",
       "      <td>22,947</td>\n",
       "      <td>18,728</td>\n",
       "      <td>4,101</td>\n",
       "      <td>292</td>\n",
       "    </tr>\n",
       "  </tbody>\n",
       "</table>\n",
       "</div>"
      ],
      "text/plain": [
       "Age Group  Under 20 Years 20-24 Years 25-29 Years 30-34 Years 35-39 Years  \\\n",
       "Artificial            786       3,158       5,409       8,284       6,458   \n",
       "Breast                250       1,632       4,883      12,193      10,266   \n",
       "Combined               66         388       1,099       2,470       2,004   \n",
       "Total               1,102       5,178      11,391      22,947      18,728   \n",
       "\n",
       "Age Group  40-44 Years 45 Years and Over  \n",
       "Artificial       1,380                94  \n",
       "Breast           2,173               144  \n",
       "Combined           548                54  \n",
       "Total            4,101               292  "
      ]
     },
     "execution_count": 2,
     "metadata": {},
     "output_type": "execute_result"
    }
   ],
   "source": [
    "# Downloaded NPRS_Age.csv from CITE\n",
    "data = pd.read_csv(\"Data/Age_and_Feeding_Type.csv\", skiprows=1, index_col='Age Group')\n",
    "\n",
    "# Other source: https://stackoverflow.com/questions/43983622/remove-unnamed-columns-in-pandas-dataframe\n",
    "\n",
    "# https://www.w3resource.com/pandas/dataframe/dataframe-t.php\n",
    "data = data.T\n",
    "data = data.iloc[0:4, 0:7]\n",
    "\n",
    "data"
   ]
  },
  {
   "cell_type": "markdown",
   "metadata": {},
   "source": [
    "An initial view of the NPRS data indicates that the data is somewhat normally distributed with births increasing in the 25 - 29 age group, peaking at 30 - 34 years of age and beginning to decline in the 35 - 39 age set."
   ]
  },
  {
   "cell_type": "markdown",
   "metadata": {},
   "source": [
    "Visualising the data set supports this analysis.\n",
    "It shows a minimum value of less than 20 years of age increasing in a positive direction until it significant peak around 32 years of age - the midpoint of the age group with the greatest frequency of births. \n",
    "\n",
    "This can be replicated using a Trinangualr Distribution. This generates a random number from a weighted range by distribuing events between the maximum and minimum values provided, based on a third value that indicates what the most likely outcome will be.[54] Here we are looking for 100 events (births) distributed between the ages of 16 and 50 with a known peak where the mothers age is 32."
   ]
  },
  {
   "cell_type": "code",
   "execution_count": 14,
   "metadata": {},
   "outputs": [
    {
     "name": "stdout",
     "output_type": "stream",
     "text": [
      "Here is your triangular continuous random variable:\n",
      " [26 35 28 39 26 35 37 36 47 23 29 34 22 34 28 41 31 44 36 28 24 34 28 24\n",
      " 36 27 36 29 32 34 41 30 39 37 34 27 27 32 34 31 31 38 40 32 27 32 27 29\n",
      " 35 30 34 24 25 41 26 22 43 30 35 41 28 33 36 38 29 28 36 42 31 34 36 40\n",
      " 24 29 34 29 34 27 36 31 36 33 38 30 42 23 44 41 42 27 32 22 46 28 31 29\n",
      " 34 28 26 25]\n"
     ]
    },
    {
     "data": {
      "image/png": "[encoded data removed]",
      "text/plain": [
       "<Figure size 432x288 with 1 Axes>"
      ]
     },
     "metadata": {
      "needs_background": "light"
     },
     "output_type": "display_data"
    }
   ],
   "source": [
    "# Here we are looking for a random array with a lower limit of 16 an upper limit of 50\n",
    "# and 32 being the number that appears most frequently (the mid point of the most frequent age group)\n",
    "# over n number of instances where n is the total number of births\n",
    "# and for the out to be presented on a Triangular Distribution plot\n",
    "\n",
    "Tri_var = np.random.triangular(left = 20, mode = 30, right = 50, size = 100).astype(int)\n",
    "print (\"Here is your triangular continuous random variable:\\n % s\" % (Tri_var)) # [55]\n",
    "\n",
    "#  https://stackoverflow.com/questions/60870070/a-weighted-version-of-random-randint\n",
    "plt.hist(np.ma.round(np.random.triangular(left = 20, mode = 30, right = 50, size = 100)).astype(int),\n",
    "        range = (16, 50), bins = 300, density = True)\n",
    "\n",
    "plt.title('Distribution of Age Variable')\n",
    "plt.xlabel('Maternal Age at Birth of Child')\n",
    "plt.ylabel('Frequency')\n",
    "plt.show()"
   ]
  },
  {
   "cell_type": "markdown",
   "metadata": {},
   "source": [
    "### Civil Status"
   ]
  },
  {
   "cell_type": "markdown",
   "metadata": {},
   "source": [
    "Univariate analysis by Gallagher shows that maternal marital status at the time of birth is significantly associated with breastfeeding initiation (Gallagher L, Begley C, Clarke M, Determinants of breastfeeding initiation in Ireland., Irish journal of medical science, 185, 3, 2015, 663 - 668).\n",
    "\n",
    "Data captured in the 2016 NPRS survey does not capture relational data between breastfeeding initiation and maternal marital status at the time of birth (http://www.hpo.ie/latest_hipe_nprs_reports/NPRS_2016/Perinatal_Statistics_Report_2016.pdf). However it does provide percentage values for maternal marital status across all age groups:\n",
    "\n",
    "| Maternal Civil Status at birth | Percentage of Total births |\n",
    "|--------------------------------|----------------------------|\n",
    "| Married                        | 62.2                       |\n",
    "| Single                         | 36.4                       |\n",
    "| Other                          | 1.4                        |\n",
    "\n",
    "\n",
    "CSO data on civil status for 2016 does record information across all age groups (https://www.cso.ie/en/releasesandpublications/er/mcp/marriagesandcivilpartnerships2016/). However, as it only captures data for \n",
    "* Marriages\n",
    "* Civil parnerships\n",
    "* Divorces, Judicial Separation and Nullity applications received by the courts \n",
    "* Divorces, Judicial Separation and Nullity applications granted by the courts \n",
    "\n",
    "It does not capture other civil arrangements such as informal seperations or and co-habitants.\n",
    "\n",
    "For the purposes of this simulation the NPRS data will be used.\n",
    "\n",
    "This is a categorical variable that has 3 possible values\n",
    "1. Married\n",
    "2. Single\n",
    "3. Other (encompassing all other civil statuses as indentified by the survey respondant)"
   ]
  },
  {
   "cell_type": "code",
   "execution_count": 12,
   "metadata": {},
   "outputs": [
    {
     "name": "stdout",
     "output_type": "stream",
     "text": [
      "Single:  14056\n",
      "Married:  45799\n",
      "Other:  3884\n"
     ]
    }
   ],
   "source": [
    "# Classifying Martial Status\n",
    "# 'single' if single, 'married' if married and 'other' for all other categories\n",
    "civil_status = ['single', 'married', 'other']\n",
    "\n",
    "# \n",
    "civil_status = rng.choice(civil_status, n, p=[0.22, 0.72, 0.06])\n",
    "\n",
    "# https://stackoverflow.com/questions/42916330/efficiently-count-zero-elements-in-numpy-array/42916378\n",
    "print(\"Single: \", np.count_nonzero(civil_status == 'single'))\n",
    "print(\"Married: \", np.count_nonzero(civil_status == 'married'))\n",
    "print(\"Other: \", np.count_nonzero(civil_status == 'other'))"
   ]
  },
  {
   "cell_type": "markdown",
   "metadata": {},
   "source": [
    "### Insurance"
   ]
  },
  {
   "cell_type": "code",
   "execution_count": 8,
   "metadata": {},
   "outputs": [
    {
     "data": {
      "text/html": [
       "<div>\n",
       "<style scoped>\n",
       "    .dataframe tbody tr th:only-of-type {\n",
       "        vertical-align: middle;\n",
       "    }\n",
       "\n",
       "    .dataframe tbody tr th {\n",
       "        vertical-align: top;\n",
       "    }\n",
       "\n",
       "    .dataframe thead th {\n",
       "        text-align: right;\n",
       "    }\n",
       "</style>\n",
       "<table border=\"1\" class=\"dataframe\">\n",
       "  <thead>\n",
       "    <tr style=\"text-align: right;\">\n",
       "      <th></th>\n",
       "      <th>Age</th>\n",
       "      <th>Total number</th>\n",
       "      <th>Percentage Insured</th>\n",
       "    </tr>\n",
       "  </thead>\n",
       "  <tbody>\n",
       "    <tr>\n",
       "      <th>0</th>\n",
       "      <td>Under 20</td>\n",
       "      <td>1102</td>\n",
       "      <td>10</td>\n",
       "    </tr>\n",
       "    <tr>\n",
       "      <th>1</th>\n",
       "      <td>20 - 24 Years</td>\n",
       "      <td>5178</td>\n",
       "      <td>9</td>\n",
       "    </tr>\n",
       "    <tr>\n",
       "      <th>2</th>\n",
       "      <td>25 - 29 Years</td>\n",
       "      <td>11391</td>\n",
       "      <td>9</td>\n",
       "    </tr>\n",
       "    <tr>\n",
       "      <th>3</th>\n",
       "      <td>30 - 34 Years</td>\n",
       "      <td>22947</td>\n",
       "      <td>14</td>\n",
       "    </tr>\n",
       "    <tr>\n",
       "      <th>4</th>\n",
       "      <td>35 - 39 Years</td>\n",
       "      <td>18728</td>\n",
       "      <td>19</td>\n",
       "    </tr>\n",
       "    <tr>\n",
       "      <th>5</th>\n",
       "      <td>40 - 45 Years</td>\n",
       "      <td>4101</td>\n",
       "      <td>19</td>\n",
       "    </tr>\n",
       "    <tr>\n",
       "      <th>6</th>\n",
       "      <td>45 years and Over</td>\n",
       "      <td>292</td>\n",
       "      <td>20</td>\n",
       "    </tr>\n",
       "  </tbody>\n",
       "</table>\n",
       "</div>"
      ],
      "text/plain": [
       "                 Age  Total number  Percentage Insured\n",
       "0           Under 20          1102                  10\n",
       "1      20 - 24 Years          5178                   9\n",
       "2      25 - 29 Years         11391                   9\n",
       "3      30 - 34 Years         22947                  14\n",
       "4      35 - 39 Years         18728                  19\n",
       "5      40 - 45 Years          4101                  19\n",
       "6  45 years and Over           292                  20"
      ]
     },
     "execution_count": 8,
     "metadata": {},
     "output_type": "execute_result"
    }
   ],
   "source": [
    "# Downloaded NPRS_Age.csv from CITE\n",
    "data = pd.read_csv(\"Data/Insurance_by_Age.csv\")\n",
    "data"
   ]
  },
  {
   "cell_type": "markdown",
   "metadata": {},
   "source": [
    "## Generate Data Set"
   ]
  },
  {
   "cell_type": "code",
   "execution_count": null,
   "metadata": {},
   "outputs": [],
   "source": [
    "# the number of rows\n",
    "rows = 500"
   ]
  },
  {
   "cell_type": "markdown",
   "metadata": {},
   "source": [
    "### Age"
   ]
  },
  {
   "cell_type": "code",
   "execution_count": 11,
   "metadata": {},
   "outputs": [
    {
     "name": "stdout",
     "output_type": "stream",
     "text": [
      "     Maternal age at birth\n",
      "0                       35\n",
      "1                       37\n",
      "2                       35\n",
      "3                       19\n",
      "4                       36\n",
      "..                     ...\n",
      "495                     40\n",
      "496                     43\n",
      "497                     21\n",
      "498                     44\n",
      "499                     40\n",
      "\n",
      "[500 rows x 1 columns]\n"
     ]
    }
   ],
   "source": [
    "# intialise data of lists.\n",
    "data = {'Age Group':['Under 20', '20-24 Years', '25-29 Years', '30-34 Years',\n",
    "                    '35-39 Years', '40-44 Years', '45 Years and Over'],\n",
    "        'Age':[]}\n",
    " \n",
    "# Create DataFrame with single column for Age\n",
    "age_dist = pd.DataFrame((np.random.triangular(left = 16, mode = 30, right = 50, size = 500)).astype(int), columns=['Maternal age at birth'])\n",
    " \n",
    "# Print the output.\n",
    "print(age_dist)"
   ]
  },
  {
   "cell_type": "code",
   "execution_count": 13,
   "metadata": {},
   "outputs": [
    {
     "name": "stdout",
     "output_type": "stream",
     "text": [
      "    Civil Status\n",
      "0          other\n",
      "1          other\n",
      "2        married\n",
      "3        married\n",
      "4          other\n",
      "..           ...\n",
      "495      married\n",
      "496        other\n",
      "497      married\n",
      "498      married\n",
      "499        other\n",
      "\n",
      "[500 rows x 1 columns]\n"
     ]
    }
   ],
   "source": [
    "# Classifying Martial Status\n",
    "# 'single' if single, 'married' if married and 'other' for all other categories\n",
    "civil_status = ['single', 'married', 'other']\n",
    "sim_status = rng.choice(civil_status, 500, p=[0.05, 0.39, 0.56])\n",
    "civstat_dist = pd.DataFrame(sim_status, columns = ['Civil Status'])\n",
    "\n",
    "# Print the output.\n",
    "print(civstat_dist)"
   ]
  },
  {
   "cell_type": "code",
   "execution_count": 17,
   "metadata": {},
   "outputs": [
    {
     "ename": "SyntaxError",
     "evalue": "invalid syntax (<ipython-input-17-6f9d1c934ebf>, line 5)",
     "output_type": "error",
     "traceback": [
      "\u001b[1;36m  File \u001b[1;32m\"<ipython-input-17-6f9d1c934ebf>\"\u001b[1;36m, line \u001b[1;32m5\u001b[0m\n\u001b[1;33m    index=[1])\u001b[0m\n\u001b[1;37m         ^\u001b[0m\n\u001b[1;31mSyntaxError\u001b[0m\u001b[1;31m:\u001b[0m invalid syntax\n"
     ]
    }
   ],
   "source": [
    "# https://stackoverflow.com/questions/17839973/constructing-pandas-dataframe-from-values-in-variables-gives-valueerror-if-usi\n",
    "\n",
    "data = ({'Age': age_dist, \n",
    "         'Civil Status': civstat_dist},\n",
    "        index=[1])\n",
    "\n",
    "df = pd.DataFrame(data)\n",
    "\n",
    "df"
   ]
  },
  {
   "cell_type": "markdown",
   "metadata": {},
   "source": [
    "### Insurance"
   ]
  },
  {
   "cell_type": "code",
   "execution_count": null,
   "metadata": {},
   "outputs": [],
   "source": [
    "age_insurance = {range(15,20) : 10,\n",
    "                 range(20,25) : 9,\n",
    "                 range(25,30) : 9,\n",
    "                 range(30,35) : 14,\n",
    "                 range(35,40) : 19,\n",
    "                 range(40,45) : 19,\n",
    "                 range(45,50) : 20}"
   ]
  }
 ],
 "metadata": {
  "kernelspec": {
   "display_name": "Python 3",
   "language": "python",
   "name": "python3"
  },
  "language_info": {
   "codemirror_mode": {
    "name": "ipython",
    "version": 3
   },
   "file_extension": ".py",
   "mimetype": "text/x-python",
   "name": "python",
   "nbconvert_exporter": "python",
   "pygments_lexer": "ipython3",
   "version": "3.8.3"
  }
 },
 "nbformat": 4,
 "nbformat_minor": 4
}
